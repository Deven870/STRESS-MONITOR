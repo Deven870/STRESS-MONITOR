{
  "cells": [
    {
      "cell_type": "code",
      "execution_count": 1,
      "metadata": {
        "colab": {
          "base_uri": "https://localhost:8080/"
        },
        "id": "fQVysRRH0cBF",
        "outputId": "0c346a39-f543-4caa-cae1-00bc128315f0"
      },
      "outputs": [
        {
          "name": "stdout",
          "output_type": "stream",
          "text": [
            "Requirement already satisfied: pandas in c:\\users\\devender\\appdata\\local\\programs\\python\\python311\\lib\\site-packages (1.5.2)\n",
            "Requirement already satisfied: scikit-learn in c:\\users\\devender\\appdata\\local\\programs\\python\\python311\\lib\\site-packages (1.4.0)\n",
            "Requirement already satisfied: python-dateutil>=2.8.1 in c:\\users\\devender\\appdata\\local\\programs\\python\\python311\\lib\\site-packages (from pandas) (2.8.2)\n",
            "Requirement already satisfied: pytz>=2020.1 in c:\\users\\devender\\appdata\\local\\programs\\python\\python311\\lib\\site-packages (from pandas) (2022.7)\n",
            "Requirement already satisfied: numpy>=1.21.0 in c:\\users\\devender\\appdata\\local\\programs\\python\\python311\\lib\\site-packages (from pandas) (1.23.5)\n",
            "Requirement already satisfied: scipy>=1.6.0 in c:\\users\\devender\\appdata\\local\\programs\\python\\python311\\lib\\site-packages (from scikit-learn) (1.15.2)\n",
            "Requirement already satisfied: joblib>=1.2.0 in c:\\users\\devender\\appdata\\local\\programs\\python\\python311\\lib\\site-packages (from scikit-learn) (1.4.2)\n",
            "Requirement already satisfied: threadpoolctl>=2.0.0 in c:\\users\\devender\\appdata\\local\\programs\\python\\python311\\lib\\site-packages (from scikit-learn) (3.2.0)\n",
            "Requirement already satisfied: six>=1.5 in c:\\users\\devender\\appdata\\local\\programs\\python\\python311\\lib\\site-packages (from python-dateutil>=2.8.1->pandas) (1.16.0)\n",
            "Note: you may need to restart the kernel to use updated packages.\n"
          ]
        },
        {
          "name": "stderr",
          "output_type": "stream",
          "text": [
            "WARNING: Ignoring invalid distribution ~ip (c:\\Users\\DEVENDER\\AppData\\Local\\Programs\\Python\\Python311\\Lib\\site-packages)\n",
            "WARNING: Ignoring invalid distribution ~upyterlab (c:\\Users\\DEVENDER\\AppData\\Local\\Programs\\Python\\Python311\\Lib\\site-packages)\n",
            "WARNING: Ignoring invalid distribution ~ip (c:\\Users\\DEVENDER\\AppData\\Local\\Programs\\Python\\Python311\\Lib\\site-packages)\n",
            "WARNING: Ignoring invalid distribution ~upyterlab (c:\\Users\\DEVENDER\\AppData\\Local\\Programs\\Python\\Python311\\Lib\\site-packages)\n",
            "WARNING: Ignoring invalid distribution ~ip (c:\\Users\\DEVENDER\\AppData\\Local\\Programs\\Python\\Python311\\Lib\\site-packages)\n",
            "WARNING: Ignoring invalid distribution ~upyterlab (c:\\Users\\DEVENDER\\AppData\\Local\\Programs\\Python\\Python311\\Lib\\site-packages)\n"
          ]
        }
      ],
      "source": [
        "# Install if not already installed (optional)\n",
        "%pip install pandas scikit-learn"
      ]
    },
    {
      "cell_type": "code",
      "execution_count": 2,
      "metadata": {
        "id": "7rSKIOlc0cum"
      },
      "outputs": [],
      "source": [
        "import pandas as pd\n",
        "from sklearn.model_selection import train_test_split\n",
        "from sklearn.preprocessing import LabelEncoder, StandardScaler\n"
      ]
    },
    {
      "cell_type": "code",
      "execution_count": 3,
      "metadata": {
        "colab": {
          "base_uri": "https://localhost:8080/",
          "height": 311
        },
        "id": "Dxvdq5UQ0jEF",
        "outputId": "45a0b3e9-8126-4988-869a-e00b4b7f3fb9"
      },
      "outputs": [
        {
          "data": {
            "text/html": [
              "<div>\n",
              "<style scoped>\n",
              "    .dataframe tbody tr th:only-of-type {\n",
              "        vertical-align: middle;\n",
              "    }\n",
              "\n",
              "    .dataframe tbody tr th {\n",
              "        vertical-align: top;\n",
              "    }\n",
              "\n",
              "    .dataframe thead th {\n",
              "        text-align: right;\n",
              "    }\n",
              "</style>\n",
              "<table border=\"1\" class=\"dataframe\">\n",
              "  <thead>\n",
              "    <tr style=\"text-align: right;\">\n",
              "      <th></th>\n",
              "      <th>anxiety_level</th>\n",
              "      <th>self_esteem</th>\n",
              "      <th>mental_health_history</th>\n",
              "      <th>depression</th>\n",
              "      <th>headache</th>\n",
              "      <th>blood_pressure</th>\n",
              "      <th>sleep_quality</th>\n",
              "      <th>breathing_problem</th>\n",
              "      <th>noise_level</th>\n",
              "      <th>living_conditions</th>\n",
              "      <th>...</th>\n",
              "      <th>basic_needs</th>\n",
              "      <th>academic_performance</th>\n",
              "      <th>study_load</th>\n",
              "      <th>teacher_student_relationship</th>\n",
              "      <th>future_career_concerns</th>\n",
              "      <th>social_support</th>\n",
              "      <th>peer_pressure</th>\n",
              "      <th>extracurricular_activities</th>\n",
              "      <th>bullying</th>\n",
              "      <th>stress_level</th>\n",
              "    </tr>\n",
              "  </thead>\n",
              "  <tbody>\n",
              "    <tr>\n",
              "      <th>0</th>\n",
              "      <td>14</td>\n",
              "      <td>20</td>\n",
              "      <td>0</td>\n",
              "      <td>11</td>\n",
              "      <td>2</td>\n",
              "      <td>1</td>\n",
              "      <td>2</td>\n",
              "      <td>4</td>\n",
              "      <td>2</td>\n",
              "      <td>3</td>\n",
              "      <td>...</td>\n",
              "      <td>2</td>\n",
              "      <td>3</td>\n",
              "      <td>2</td>\n",
              "      <td>3</td>\n",
              "      <td>3</td>\n",
              "      <td>2</td>\n",
              "      <td>3</td>\n",
              "      <td>3</td>\n",
              "      <td>2</td>\n",
              "      <td>1</td>\n",
              "    </tr>\n",
              "    <tr>\n",
              "      <th>1</th>\n",
              "      <td>15</td>\n",
              "      <td>8</td>\n",
              "      <td>1</td>\n",
              "      <td>15</td>\n",
              "      <td>5</td>\n",
              "      <td>3</td>\n",
              "      <td>1</td>\n",
              "      <td>4</td>\n",
              "      <td>3</td>\n",
              "      <td>1</td>\n",
              "      <td>...</td>\n",
              "      <td>2</td>\n",
              "      <td>1</td>\n",
              "      <td>4</td>\n",
              "      <td>1</td>\n",
              "      <td>5</td>\n",
              "      <td>1</td>\n",
              "      <td>4</td>\n",
              "      <td>5</td>\n",
              "      <td>5</td>\n",
              "      <td>2</td>\n",
              "    </tr>\n",
              "    <tr>\n",
              "      <th>2</th>\n",
              "      <td>12</td>\n",
              "      <td>18</td>\n",
              "      <td>1</td>\n",
              "      <td>14</td>\n",
              "      <td>2</td>\n",
              "      <td>1</td>\n",
              "      <td>2</td>\n",
              "      <td>2</td>\n",
              "      <td>2</td>\n",
              "      <td>2</td>\n",
              "      <td>...</td>\n",
              "      <td>2</td>\n",
              "      <td>2</td>\n",
              "      <td>3</td>\n",
              "      <td>3</td>\n",
              "      <td>2</td>\n",
              "      <td>2</td>\n",
              "      <td>3</td>\n",
              "      <td>2</td>\n",
              "      <td>2</td>\n",
              "      <td>1</td>\n",
              "    </tr>\n",
              "    <tr>\n",
              "      <th>3</th>\n",
              "      <td>16</td>\n",
              "      <td>12</td>\n",
              "      <td>1</td>\n",
              "      <td>15</td>\n",
              "      <td>4</td>\n",
              "      <td>3</td>\n",
              "      <td>1</td>\n",
              "      <td>3</td>\n",
              "      <td>4</td>\n",
              "      <td>2</td>\n",
              "      <td>...</td>\n",
              "      <td>2</td>\n",
              "      <td>2</td>\n",
              "      <td>4</td>\n",
              "      <td>1</td>\n",
              "      <td>4</td>\n",
              "      <td>1</td>\n",
              "      <td>4</td>\n",
              "      <td>4</td>\n",
              "      <td>5</td>\n",
              "      <td>2</td>\n",
              "    </tr>\n",
              "    <tr>\n",
              "      <th>4</th>\n",
              "      <td>16</td>\n",
              "      <td>28</td>\n",
              "      <td>0</td>\n",
              "      <td>7</td>\n",
              "      <td>2</td>\n",
              "      <td>3</td>\n",
              "      <td>5</td>\n",
              "      <td>1</td>\n",
              "      <td>3</td>\n",
              "      <td>2</td>\n",
              "      <td>...</td>\n",
              "      <td>3</td>\n",
              "      <td>4</td>\n",
              "      <td>3</td>\n",
              "      <td>1</td>\n",
              "      <td>2</td>\n",
              "      <td>1</td>\n",
              "      <td>5</td>\n",
              "      <td>0</td>\n",
              "      <td>5</td>\n",
              "      <td>1</td>\n",
              "    </tr>\n",
              "  </tbody>\n",
              "</table>\n",
              "<p>5 rows × 21 columns</p>\n",
              "</div>"
            ],
            "text/plain": [
              "   anxiety_level  self_esteem  mental_health_history  depression  headache  \\\n",
              "0             14           20                      0          11         2   \n",
              "1             15            8                      1          15         5   \n",
              "2             12           18                      1          14         2   \n",
              "3             16           12                      1          15         4   \n",
              "4             16           28                      0           7         2   \n",
              "\n",
              "   blood_pressure  sleep_quality  breathing_problem  noise_level  \\\n",
              "0               1              2                  4            2   \n",
              "1               3              1                  4            3   \n",
              "2               1              2                  2            2   \n",
              "3               3              1                  3            4   \n",
              "4               3              5                  1            3   \n",
              "\n",
              "   living_conditions  ...  basic_needs  academic_performance  study_load  \\\n",
              "0                  3  ...            2                     3           2   \n",
              "1                  1  ...            2                     1           4   \n",
              "2                  2  ...            2                     2           3   \n",
              "3                  2  ...            2                     2           4   \n",
              "4                  2  ...            3                     4           3   \n",
              "\n",
              "   teacher_student_relationship  future_career_concerns  social_support  \\\n",
              "0                             3                       3               2   \n",
              "1                             1                       5               1   \n",
              "2                             3                       2               2   \n",
              "3                             1                       4               1   \n",
              "4                             1                       2               1   \n",
              "\n",
              "   peer_pressure  extracurricular_activities  bullying  stress_level  \n",
              "0              3                           3         2             1  \n",
              "1              4                           5         5             2  \n",
              "2              3                           2         2             1  \n",
              "3              4                           4         5             2  \n",
              "4              5                           0         5             1  \n",
              "\n",
              "[5 rows x 21 columns]"
            ]
          },
          "execution_count": 3,
          "metadata": {},
          "output_type": "execute_result"
        }
      ],
      "source": [
        "\n",
        "import os\n",
        "\n",
        "# Verify if the file exists\n",
        "file_path = r\"C:\\Users\\DEVENDER\\Desktop\\stress\\StressLevelDataset.csv\"\n",
        "if not os.path.exists(file_path):\n",
        "\traise FileNotFoundError(f\"The file was not found at the specified path: {file_path}\")\n",
        "\n",
        "# Now load it\n",
        "df = pd.read_csv(file_path)\n",
        "\n",
        "# Check the first few rows\n",
        "df.head()\n"
      ]
    },
    {
      "cell_type": "code",
      "execution_count": 4,
      "metadata": {
        "colab": {
          "base_uri": "https://localhost:8080/"
        },
        "id": "dwHLD5OX1bnt",
        "outputId": "07f430c1-d620-48c2-c0cf-7c0ea3622e5c"
      },
      "outputs": [
        {
          "name": "stdout",
          "output_type": "stream",
          "text": [
            "['anxiety_level', 'self_esteem', 'mental_health_history', 'depression', 'headache', 'blood_pressure', 'sleep_quality', 'breathing_problem', 'noise_level', 'living_conditions', 'safety', 'basic_needs', 'academic_performance', 'study_load', 'teacher_student_relationship', 'future_career_concerns', 'social_support', 'peer_pressure', 'extracurricular_activities', 'bullying', 'stress_level']\n"
          ]
        }
      ],
      "source": [
        "# Print all column names to check what target label name is\n",
        "print(df.columns.tolist())\n"
      ]
    },
    {
      "cell_type": "code",
      "execution_count": 5,
      "metadata": {
        "colab": {
          "base_uri": "https://localhost:8080/",
          "height": 255
        },
        "id": "DdUtwp0h1ghh",
        "outputId": "efbd326b-0aa0-472e-e036-929aaa109bbc"
      },
      "outputs": [
        {
          "data": {
            "text/html": [
              "<div>\n",
              "<style scoped>\n",
              "    .dataframe tbody tr th:only-of-type {\n",
              "        vertical-align: middle;\n",
              "    }\n",
              "\n",
              "    .dataframe tbody tr th {\n",
              "        vertical-align: top;\n",
              "    }\n",
              "\n",
              "    .dataframe thead th {\n",
              "        text-align: right;\n",
              "    }\n",
              "</style>\n",
              "<table border=\"1\" class=\"dataframe\">\n",
              "  <thead>\n",
              "    <tr style=\"text-align: right;\">\n",
              "      <th></th>\n",
              "      <th>anxiety_level</th>\n",
              "      <th>self_esteem</th>\n",
              "      <th>mental_health_history</th>\n",
              "      <th>depression</th>\n",
              "      <th>headache</th>\n",
              "      <th>blood_pressure</th>\n",
              "      <th>sleep_quality</th>\n",
              "      <th>breathing_problem</th>\n",
              "      <th>noise_level</th>\n",
              "      <th>living_conditions</th>\n",
              "      <th>...</th>\n",
              "      <th>basic_needs</th>\n",
              "      <th>academic_performance</th>\n",
              "      <th>study_load</th>\n",
              "      <th>teacher_student_relationship</th>\n",
              "      <th>future_career_concerns</th>\n",
              "      <th>social_support</th>\n",
              "      <th>peer_pressure</th>\n",
              "      <th>extracurricular_activities</th>\n",
              "      <th>bullying</th>\n",
              "      <th>stress_level</th>\n",
              "    </tr>\n",
              "  </thead>\n",
              "  <tbody>\n",
              "    <tr>\n",
              "      <th>0</th>\n",
              "      <td>14</td>\n",
              "      <td>20</td>\n",
              "      <td>0</td>\n",
              "      <td>11</td>\n",
              "      <td>2</td>\n",
              "      <td>1</td>\n",
              "      <td>2</td>\n",
              "      <td>4</td>\n",
              "      <td>2</td>\n",
              "      <td>3</td>\n",
              "      <td>...</td>\n",
              "      <td>2</td>\n",
              "      <td>3</td>\n",
              "      <td>2</td>\n",
              "      <td>3</td>\n",
              "      <td>3</td>\n",
              "      <td>2</td>\n",
              "      <td>3</td>\n",
              "      <td>3</td>\n",
              "      <td>2</td>\n",
              "      <td>1</td>\n",
              "    </tr>\n",
              "    <tr>\n",
              "      <th>1</th>\n",
              "      <td>15</td>\n",
              "      <td>8</td>\n",
              "      <td>1</td>\n",
              "      <td>15</td>\n",
              "      <td>5</td>\n",
              "      <td>3</td>\n",
              "      <td>1</td>\n",
              "      <td>4</td>\n",
              "      <td>3</td>\n",
              "      <td>1</td>\n",
              "      <td>...</td>\n",
              "      <td>2</td>\n",
              "      <td>1</td>\n",
              "      <td>4</td>\n",
              "      <td>1</td>\n",
              "      <td>5</td>\n",
              "      <td>1</td>\n",
              "      <td>4</td>\n",
              "      <td>5</td>\n",
              "      <td>5</td>\n",
              "      <td>2</td>\n",
              "    </tr>\n",
              "    <tr>\n",
              "      <th>2</th>\n",
              "      <td>12</td>\n",
              "      <td>18</td>\n",
              "      <td>1</td>\n",
              "      <td>14</td>\n",
              "      <td>2</td>\n",
              "      <td>1</td>\n",
              "      <td>2</td>\n",
              "      <td>2</td>\n",
              "      <td>2</td>\n",
              "      <td>2</td>\n",
              "      <td>...</td>\n",
              "      <td>2</td>\n",
              "      <td>2</td>\n",
              "      <td>3</td>\n",
              "      <td>3</td>\n",
              "      <td>2</td>\n",
              "      <td>2</td>\n",
              "      <td>3</td>\n",
              "      <td>2</td>\n",
              "      <td>2</td>\n",
              "      <td>1</td>\n",
              "    </tr>\n",
              "    <tr>\n",
              "      <th>3</th>\n",
              "      <td>16</td>\n",
              "      <td>12</td>\n",
              "      <td>1</td>\n",
              "      <td>15</td>\n",
              "      <td>4</td>\n",
              "      <td>3</td>\n",
              "      <td>1</td>\n",
              "      <td>3</td>\n",
              "      <td>4</td>\n",
              "      <td>2</td>\n",
              "      <td>...</td>\n",
              "      <td>2</td>\n",
              "      <td>2</td>\n",
              "      <td>4</td>\n",
              "      <td>1</td>\n",
              "      <td>4</td>\n",
              "      <td>1</td>\n",
              "      <td>4</td>\n",
              "      <td>4</td>\n",
              "      <td>5</td>\n",
              "      <td>2</td>\n",
              "    </tr>\n",
              "    <tr>\n",
              "      <th>4</th>\n",
              "      <td>16</td>\n",
              "      <td>28</td>\n",
              "      <td>0</td>\n",
              "      <td>7</td>\n",
              "      <td>2</td>\n",
              "      <td>3</td>\n",
              "      <td>5</td>\n",
              "      <td>1</td>\n",
              "      <td>3</td>\n",
              "      <td>2</td>\n",
              "      <td>...</td>\n",
              "      <td>3</td>\n",
              "      <td>4</td>\n",
              "      <td>3</td>\n",
              "      <td>1</td>\n",
              "      <td>2</td>\n",
              "      <td>1</td>\n",
              "      <td>5</td>\n",
              "      <td>0</td>\n",
              "      <td>5</td>\n",
              "      <td>1</td>\n",
              "    </tr>\n",
              "  </tbody>\n",
              "</table>\n",
              "<p>5 rows × 21 columns</p>\n",
              "</div>"
            ],
            "text/plain": [
              "   anxiety_level  self_esteem  mental_health_history  depression  headache  \\\n",
              "0             14           20                      0          11         2   \n",
              "1             15            8                      1          15         5   \n",
              "2             12           18                      1          14         2   \n",
              "3             16           12                      1          15         4   \n",
              "4             16           28                      0           7         2   \n",
              "\n",
              "   blood_pressure  sleep_quality  breathing_problem  noise_level  \\\n",
              "0               1              2                  4            2   \n",
              "1               3              1                  4            3   \n",
              "2               1              2                  2            2   \n",
              "3               3              1                  3            4   \n",
              "4               3              5                  1            3   \n",
              "\n",
              "   living_conditions  ...  basic_needs  academic_performance  study_load  \\\n",
              "0                  3  ...            2                     3           2   \n",
              "1                  1  ...            2                     1           4   \n",
              "2                  2  ...            2                     2           3   \n",
              "3                  2  ...            2                     2           4   \n",
              "4                  2  ...            3                     4           3   \n",
              "\n",
              "   teacher_student_relationship  future_career_concerns  social_support  \\\n",
              "0                             3                       3               2   \n",
              "1                             1                       5               1   \n",
              "2                             3                       2               2   \n",
              "3                             1                       4               1   \n",
              "4                             1                       2               1   \n",
              "\n",
              "   peer_pressure  extracurricular_activities  bullying  stress_level  \n",
              "0              3                           3         2             1  \n",
              "1              4                           5         5             2  \n",
              "2              3                           2         2             1  \n",
              "3              4                           4         5             2  \n",
              "4              5                           0         5             1  \n",
              "\n",
              "[5 rows x 21 columns]"
            ]
          },
          "execution_count": 5,
          "metadata": {},
          "output_type": "execute_result"
        }
      ],
      "source": [
        "# Label encode any categorical columns\n",
        "label_encoders = {}\n",
        "\n",
        "for col in df.select_dtypes(include='object').columns:\n",
        "    le = LabelEncoder()\n",
        "    df[col] = le.fit_transform(df[col])\n",
        "    label_encoders[col] = le\n",
        "\n",
        "df.head()\n"
      ]
    },
    {
      "cell_type": "code",
      "execution_count": 6,
      "metadata": {
        "id": "LTOXWmey1jVn"
      },
      "outputs": [],
      "source": [
        "# Replace 'CorrectColumnName' with the actual name of your target column from df.columns.tolist()\n",
        "target_column = 'anxiety_level'  # Example: Assuming 'anxiety_level' is your target column\n",
        "X = df.drop(target_column, axis=1)\n",
        "y = df[target_column]"
      ]
    },
    {
      "cell_type": "code",
      "execution_count": 7,
      "metadata": {
        "id": "ERkQDdTn1ma1"
      },
      "outputs": [],
      "source": [
        "scaler = StandardScaler()\n",
        "X_scaled = scaler.fit_transform(X)\n"
      ]
    },
    {
      "cell_type": "code",
      "execution_count": 8,
      "metadata": {
        "colab": {
          "base_uri": "https://localhost:8080/"
        },
        "id": "3rUggYhR16Or",
        "outputId": "107457e8-c9dc-4924-bf97-74288c582b0a"
      },
      "outputs": [
        {
          "name": "stdout",
          "output_type": "stream",
          "text": [
            "Training samples: 880, Test samples: 220\n"
          ]
        }
      ],
      "source": [
        "X_train, X_test, y_train, y_test = train_test_split(\n",
        "    X_scaled, y, test_size=0.2, random_state=42\n",
        ")\n",
        "\n",
        "print(f\"Training samples: {X_train.shape[0]}, Test samples: {X_test.shape[0]}\")\n"
      ]
    },
    {
      "cell_type": "code",
      "execution_count": 9,
      "metadata": {
        "colab": {
          "base_uri": "https://localhost:8080/"
        },
        "id": "b489vCiX18G7",
        "outputId": "7249663b-d3a8-4eee-f518-a3b1b64dc258"
      },
      "outputs": [
        {
          "name": "stdout",
          "output_type": "stream",
          "text": [
            "Accuracy: 0.08636363636363636\n",
            "\n",
            "Confusion Matrix:\n",
            " [[0 1 0 1 1 1 1 2 0 0 0 0 0 0 0 0 0 0 0 0 0 0]\n",
            " [0 0 0 0 1 0 3 2 1 0 0 0 0 0 0 0 0 0 1 0 0 0]\n",
            " [0 0 0 2 1 1 3 3 0 0 0 0 0 0 0 0 1 0 0 0 0 0]\n",
            " [0 0 0 1 0 0 3 3 4 0 0 0 0 0 0 0 0 0 0 0 0 0]\n",
            " [0 1 1 1 0 0 0 0 2 0 0 0 2 0 0 0 0 0 0 0 0 0]\n",
            " [0 0 0 0 0 2 3 4 1 0 0 0 0 0 0 0 0 1 0 0 0 0]\n",
            " [0 2 0 2 0 1 0 2 2 0 0 0 0 0 0 0 0 0 0 0 0 0]\n",
            " [1 0 2 0 0 0 1 1 0 0 0 0 0 0 0 0 0 0 0 1 0 2]\n",
            " [2 1 0 1 0 0 0 0 1 0 0 0 0 0 0 0 0 0 0 0 0 0]\n",
            " [0 0 0 0 0 0 0 0 0 1 4 1 0 1 1 0 0 0 0 0 0 0]\n",
            " [0 0 0 0 0 1 0 0 0 4 4 0 0 1 4 0 0 0 1 0 0 1]\n",
            " [0 0 1 1 0 1 0 0 0 0 4 2 1 4 1 0 0 0 0 0 0 0]\n",
            " [0 1 0 0 0 0 0 0 0 2 3 0 0 5 1 0 0 1 0 0 0 0]\n",
            " [0 0 0 1 0 0 0 0 0 2 7 1 1 1 0 0 0 0 0 0 0 0]\n",
            " [0 0 1 1 0 0 0 0 1 1 1 1 0 2 2 0 0 0 1 0 1 0]\n",
            " [0 0 1 1 0 0 0 0 0 0 0 0 0 0 0 1 0 2 1 0 0 1]\n",
            " [0 0 0 0 0 1 0 0 0 0 0 0 0 0 0 1 0 1 3 1 0 2]\n",
            " [0 0 0 0 0 0 1 0 0 0 0 0 0 0 0 3 0 0 0 3 0 2]\n",
            " [0 0 0 0 0 0 1 0 0 0 0 0 0 0 0 2 1 1 1 1 2 2]\n",
            " [0 0 1 0 0 0 0 0 0 0 0 0 0 0 0 2 0 1 1 1 2 2]\n",
            " [0 0 0 0 0 0 0 0 0 0 0 0 1 0 0 1 0 1 1 3 0 3]\n",
            " [0 0 0 0 0 0 0 0 0 0 0 0 0 0 0 3 2 0 2 1 1 1]]\n",
            "\n",
            "Classification Report:\n",
            "               precision    recall  f1-score   support\n",
            "\n",
            "           0       0.00      0.00      0.00         7\n",
            "           1       0.00      0.00      0.00         8\n",
            "           2       0.00      0.00      0.00        11\n",
            "           3       0.08      0.09      0.09        11\n",
            "           4       0.00      0.00      0.00         7\n",
            "           5       0.25      0.18      0.21        11\n",
            "           6       0.00      0.00      0.00         9\n",
            "           7       0.06      0.12      0.08         8\n",
            "           8       0.08      0.20      0.12         5\n",
            "           9       0.10      0.12      0.11         8\n",
            "          10       0.17      0.25      0.21        16\n",
            "          11       0.40      0.13      0.20        15\n",
            "          12       0.00      0.00      0.00        13\n",
            "          13       0.07      0.08      0.07        13\n",
            "          14       0.22      0.17      0.19        12\n",
            "          15       0.08      0.14      0.10         7\n",
            "          16       0.00      0.00      0.00         9\n",
            "          17       0.00      0.00      0.00         9\n",
            "          18       0.08      0.09      0.09        11\n",
            "          19       0.09      0.10      0.10        10\n",
            "          20       0.00      0.00      0.00        10\n",
            "          21       0.06      0.10      0.08        10\n",
            "\n",
            "    accuracy                           0.09       220\n",
            "   macro avg       0.08      0.08      0.07       220\n",
            "weighted avg       0.09      0.09      0.08       220\n",
            "\n"
          ]
        }
      ],
      "source": [
        "from sklearn.ensemble import RandomForestClassifier\n",
        "from sklearn.metrics import accuracy_score, confusion_matrix, classification_report\n",
        "\n",
        "# Initialize the model\n",
        "rf_model = RandomForestClassifier(n_estimators=100, random_state=42)\n",
        "\n",
        "# Train the model\n",
        "rf_model.fit(X_train, y_train)\n",
        "\n",
        "# Predict on test data\n",
        "y_pred = rf_model.predict(X_test)\n",
        "\n",
        "# Evaluation\n",
        "print(\"Accuracy:\", accuracy_score(y_test, y_pred))\n",
        "print(\"\\nConfusion Matrix:\\n\", confusion_matrix(y_test, y_pred))\n",
        "print(\"\\nClassification Report:\\n\", classification_report(y_test, y_pred))\n"
      ]
    },
    {
      "cell_type": "code",
      "execution_count": 10,
      "metadata": {
        "colab": {
          "base_uri": "https://localhost:8080/"
        },
        "id": "vwLPu75h2G68",
        "outputId": "aa2efe53-89fc-4c34-da8d-ef51d2510257"
      },
      "outputs": [
        {
          "name": "stdout",
          "output_type": "stream",
          "text": [
            "✅ Model and scaler saved!\n"
          ]
        }
      ],
      "source": [
        "import joblib\n",
        "\n",
        "# Save the trained model to a file\n",
        "joblib.dump(rf_model, 'student_stress_model.pkl')\n",
        "\n",
        "# Save the scaler too (important for chatbot to preprocess input correctly)\n",
        "joblib.dump(scaler, 'scaler.pkl')\n",
        "\n",
        "print(\"✅ Model and scaler saved!\")\n"
      ]
    },
    {
      "cell_type": "code",
      "execution_count": 11,
      "metadata": {
        "colab": {
          "base_uri": "https://localhost:8080/",
          "height": 532
        },
        "id": "qWT5l8KB2Kyv",
        "outputId": "5daeca85-2b53-4682-9859-c1f61f584220"
      },
      "outputs": [
        {
          "name": "stderr",
          "output_type": "stream",
          "text": [
            "C:\\Users\\DEVENDER\\AppData\\Local\\Temp\\ipykernel_20104\\4259279847.py:16: UserWarning: Glyph 128202 (\\N{BAR CHART}) missing from current font.\n",
            "  plt.tight_layout()\n",
            "c:\\Users\\DEVENDER\\AppData\\Local\\Programs\\Python\\Python311\\Lib\\site-packages\\IPython\\core\\pylabtools.py:152: UserWarning: Glyph 128202 (\\N{BAR CHART}) missing from current font.\n",
            "  fig.canvas.print_figure(bytes_io, **kw)\n"
          ]
        },
        {
          "data": {
            "image/png": "[encoded data removed]",
            "text/plain": [
              "<Figure size 1200x600 with 1 Axes>"
            ]
          },
          "metadata": {},
          "output_type": "display_data"
        }
      ],
      "source": [
        "import matplotlib.pyplot as plt\n",
        "import numpy as np\n",
        "\n",
        "# Get feature importances\n",
        "importances = rf_model.feature_importances_\n",
        "feature_names = X.columns if isinstance(X, pd.DataFrame) else df.drop('CorrectColumnName', axis=1).columns\n",
        "\n",
        "# Sort features by importance\n",
        "indices = np.argsort(importances)[::-1]\n",
        "\n",
        "# Plot\n",
        "plt.figure(figsize=(12, 6))\n",
        "plt.title(\"📊 Top Features Affecting Student Stress\", fontsize=14)\n",
        "plt.bar(range(len(importances)), importances[indices], color='skyblue')\n",
        "plt.xticks(range(len(importances)), [feature_names[i] for i in indices], rotation=45, ha='right')\n",
        "plt.tight_layout()\n",
        "plt.show()\n"
      ]
    },
    {
      "cell_type": "code",
      "execution_count": 12,
      "metadata": {
        "colab": {
          "base_uri": "https://localhost:8080/"
        },
        "id": "ZzEm8stY2QeJ",
        "outputId": "32c014d8-5394-4706-ac79-d5e1b1d98e15"
      },
      "outputs": [
        {
          "name": "stdout",
          "output_type": "stream",
          "text": [
            "Requirement already satisfied: speechrecognition in c:\\users\\devender\\appdata\\local\\programs\\python\\python311\\lib\\site-packages (3.14.1)\n",
            "Requirement already satisfied: pyttsx3 in c:\\users\\devender\\appdata\\local\\programs\\python\\python311\\lib\\site-packages (2.98)\n",
            "Requirement already satisfied: joblib in c:\\users\\devender\\appdata\\local\\programs\\python\\python311\\lib\\site-packages (1.4.2)\n",
            "Requirement already satisfied: pandas in c:\\users\\devender\\appdata\\local\\programs\\python\\python311\\lib\\site-packages (1.5.2)\n",
            "Requirement already satisfied: scikit-learn in c:\\users\\devender\\appdata\\local\\programs\\python\\python311\\lib\\site-packages (1.4.0)\n",
            "Requirement already satisfied: typing-extensions in c:\\users\\devender\\appdata\\local\\programs\\python\\python311\\lib\\site-packages (from speechrecognition) (4.12.2)\n",
            "Requirement already satisfied: comtypes in c:\\users\\devender\\appdata\\local\\programs\\python\\python311\\lib\\site-packages (from pyttsx3) (1.4.10)\n",
            "Requirement already satisfied: pypiwin32 in c:\\users\\devender\\appdata\\local\\programs\\python\\python311\\lib\\site-packages (from pyttsx3) (223)\n",
            "Requirement already satisfied: pywin32 in c:\\users\\devender\\appdata\\local\\programs\\python\\python311\\lib\\site-packages (from pyttsx3) (305)\n",
            "Requirement already satisfied: python-dateutil>=2.8.1 in c:\\users\\devender\\appdata\\local\\programs\\python\\python311\\lib\\site-packages (from pandas) (2.8.2)\n",
            "Requirement already satisfied: pytz>=2020.1 in c:\\users\\devender\\appdata\\local\\programs\\python\\python311\\lib\\site-packages (from pandas) (2022.7)\n",
            "Requirement already satisfied: numpy>=1.21.0 in c:\\users\\devender\\appdata\\local\\programs\\python\\python311\\lib\\site-packages (from pandas) (1.23.5)\n",
            "Requirement already satisfied: scipy>=1.6.0 in c:\\users\\devender\\appdata\\local\\programs\\python\\python311\\lib\\site-packages (from scikit-learn) (1.15.2)\n",
            "Requirement already satisfied: threadpoolctl>=2.0.0 in c:\\users\\devender\\appdata\\local\\programs\\python\\python311\\lib\\site-packages (from scikit-learn) (3.2.0)\n",
            "Requirement already satisfied: six>=1.5 in c:\\users\\devender\\appdata\\local\\programs\\python\\python311\\lib\\site-packages (from python-dateutil>=2.8.1->pandas) (1.16.0)\n",
            "Note: you may need to restart the kernel to use updated packages.\n"
          ]
        },
        {
          "name": "stderr",
          "output_type": "stream",
          "text": [
            "WARNING: Ignoring invalid distribution ~ip (c:\\Users\\DEVENDER\\AppData\\Local\\Programs\\Python\\Python311\\Lib\\site-packages)\n",
            "WARNING: Ignoring invalid distribution ~upyterlab (c:\\Users\\DEVENDER\\AppData\\Local\\Programs\\Python\\Python311\\Lib\\site-packages)\n",
            "WARNING: Ignoring invalid distribution ~ip (c:\\Users\\DEVENDER\\AppData\\Local\\Programs\\Python\\Python311\\Lib\\site-packages)\n",
            "WARNING: Ignoring invalid distribution ~upyterlab (c:\\Users\\DEVENDER\\AppData\\Local\\Programs\\Python\\Python311\\Lib\\site-packages)\n",
            "WARNING: Ignoring invalid distribution ~ip (c:\\Users\\DEVENDER\\AppData\\Local\\Programs\\Python\\Python311\\Lib\\site-packages)\n",
            "WARNING: Ignoring invalid distribution ~upyterlab (c:\\Users\\DEVENDER\\AppData\\Local\\Programs\\Python\\Python311\\Lib\\site-packages)\n"
          ]
        }
      ],
      "source": [
        "%pip install speechrecognition pyttsx3 joblib pandas scikit-learn\n"
      ]
    },
    {
      "cell_type": "code",
      "execution_count": 13,
      "metadata": {
        "colab": {
          "base_uri": "https://localhost:8080/"
        },
        "id": "HTp9FsSd3RDM",
        "outputId": "6b32b61a-3eed-4ff9-8367-ef0488c44143"
      },
      "outputs": [
        {
          "name": "stdout",
          "output_type": "stream",
          "text": [
            "Requirement already satisfied: pyttsx3 in c:\\users\\devender\\appdata\\local\\programs\\python\\python311\\lib\\site-packages (2.98)\n",
            "Requirement already satisfied: comtypes in c:\\users\\devender\\appdata\\local\\programs\\python\\python311\\lib\\site-packages (from pyttsx3) (1.4.10)\n",
            "Requirement already satisfied: pypiwin32 in c:\\users\\devender\\appdata\\local\\programs\\python\\python311\\lib\\site-packages (from pyttsx3) (223)\n",
            "Requirement already satisfied: pywin32 in c:\\users\\devender\\appdata\\local\\programs\\python\\python311\\lib\\site-packages (from pyttsx3) (305)\n",
            "Note: you may need to restart the kernel to use updated packages.\n"
          ]
        },
        {
          "name": "stderr",
          "output_type": "stream",
          "text": [
            "WARNING: Ignoring invalid distribution ~ip (c:\\Users\\DEVENDER\\AppData\\Local\\Programs\\Python\\Python311\\Lib\\site-packages)\n",
            "WARNING: Ignoring invalid distribution ~upyterlab (c:\\Users\\DEVENDER\\AppData\\Local\\Programs\\Python\\Python311\\Lib\\site-packages)\n",
            "WARNING: Ignoring invalid distribution ~ip (c:\\Users\\DEVENDER\\AppData\\Local\\Programs\\Python\\Python311\\Lib\\site-packages)\n",
            "WARNING: Ignoring invalid distribution ~upyterlab (c:\\Users\\DEVENDER\\AppData\\Local\\Programs\\Python\\Python311\\Lib\\site-packages)\n",
            "WARNING: Ignoring invalid distribution ~ip (c:\\Users\\DEVENDER\\AppData\\Local\\Programs\\Python\\Python311\\Lib\\site-packages)\n",
            "WARNING: Ignoring invalid distribution ~upyterlab (c:\\Users\\DEVENDER\\AppData\\Local\\Programs\\Python\\Python311\\Lib\\site-packages)\n"
          ]
        }
      ],
      "source": [
        "# On Windows, you don't need to install espeak via apt-get.\n",
        "# Instead, ensure you have pyttsx3 or gTTS installed for text-to-speech functionality.\n",
        "# If not already installed, you can install it using pip:\n",
        "%pip install pyttsx3"
      ]
    },
    {
      "cell_type": "code",
      "execution_count": 14,
      "metadata": {
        "colab": {
          "base_uri": "https://localhost:8080/"
        },
        "id": "fbDhtzSn5Q2X",
        "outputId": "812cb0d1-021b-4f59-fd70-ff356e7a66a6"
      },
      "outputs": [
        {
          "name": "stderr",
          "output_type": "stream",
          "text": [
            "Sudo is disabled on this machine. To enable it, go to the \u001b]8;;ms-settings:developers\u001b\\Developer Settings page\u001b]8;;\u001b\\ in the Settings app\n"
          ]
        }
      ],
      "source": [
        "!sudo apt-get install portaudio19-dev"
      ]
    },
    {
      "cell_type": "code",
      "execution_count": 15,
      "metadata": {
        "colab": {
          "base_uri": "https://localhost:8080/"
        },
        "id": "_OtC9fAP2bsR",
        "outputId": "a71fe48d-4f7c-4042-a8b4-789f84e4228f"
      },
      "outputs": [
        {
          "name": "stdout",
          "output_type": "stream",
          "text": [
            "Requirement already satisfied: pyaudio in c:\\users\\devender\\appdata\\local\\programs\\python\\python311\\lib\\site-packages (0.2.14)\n",
            "Note: you may need to restart the kernel to use updated packages.\n"
          ]
        },
        {
          "name": "stderr",
          "output_type": "stream",
          "text": [
            "WARNING: Ignoring invalid distribution ~ip (c:\\Users\\DEVENDER\\AppData\\Local\\Programs\\Python\\Python311\\Lib\\site-packages)\n",
            "WARNING: Ignoring invalid distribution ~upyterlab (c:\\Users\\DEVENDER\\AppData\\Local\\Programs\\Python\\Python311\\Lib\\site-packages)\n",
            "WARNING: Ignoring invalid distribution ~ip (c:\\Users\\DEVENDER\\AppData\\Local\\Programs\\Python\\Python311\\Lib\\site-packages)\n",
            "WARNING: Ignoring invalid distribution ~upyterlab (c:\\Users\\DEVENDER\\AppData\\Local\\Programs\\Python\\Python311\\Lib\\site-packages)\n",
            "WARNING: Ignoring invalid distribution ~ip (c:\\Users\\DEVENDER\\AppData\\Local\\Programs\\Python\\Python311\\Lib\\site-packages)\n",
            "WARNING: Ignoring invalid distribution ~upyterlab (c:\\Users\\DEVENDER\\AppData\\Local\\Programs\\Python\\Python311\\Lib\\site-packages)\n"
          ]
        }
      ],
      "source": [
        "%pip install pyaudio"
      ]
    },
    {
      "cell_type": "code",
      "execution_count": 16,
      "metadata": {
        "id": "LqRVjJzd68zt"
      },
      "outputs": [
        {
          "name": "stdout",
          "output_type": "stream",
          "text": [
            "{'index': 0, 'structVersion': 2, 'name': 'Microsoft Sound Mapper - Input', 'hostApi': 0, 'maxInputChannels': 2, 'maxOutputChannels': 0, 'defaultLowInputLatency': 0.09, 'defaultLowOutputLatency': 0.09, 'defaultHighInputLatency': 0.18, 'defaultHighOutputLatency': 0.18, 'defaultSampleRate': 44100.0}\n",
            "{'index': 1, 'structVersion': 2, 'name': 'Microphone Array (2- IntelÂ® Sma', 'hostApi': 0, 'maxInputChannels': 4, 'maxOutputChannels': 0, 'defaultLowInputLatency': 0.09, 'defaultLowOutputLatency': 0.09, 'defaultHighInputLatency': 0.18, 'defaultHighOutputLatency': 0.18, 'defaultSampleRate': 44100.0}\n",
            "{'index': 2, 'structVersion': 2, 'name': 'Microsoft Sound Mapper - Output', 'hostApi': 0, 'maxInputChannels': 0, 'maxOutputChannels': 2, 'defaultLowInputLatency': 0.09, 'defaultLowOutputLatency': 0.09, 'defaultHighInputLatency': 0.18, 'defaultHighOutputLatency': 0.18, 'defaultSampleRate': 44100.0}\n",
            "{'index': 3, 'structVersion': 2, 'name': 'Speaker (2- Realtek(R) Audio)', 'hostApi': 0, 'maxInputChannels': 0, 'maxOutputChannels': 2, 'defaultLowInputLatency': 0.09, 'defaultLowOutputLatency': 0.09, 'defaultHighInputLatency': 0.18, 'defaultHighOutputLatency': 0.18, 'defaultSampleRate': 44100.0}\n",
            "{'index': 4, 'structVersion': 2, 'name': 'Primary Sound Capture Driver', 'hostApi': 1, 'maxInputChannels': 2, 'maxOutputChannels': 0, 'defaultLowInputLatency': 0.12, 'defaultLowOutputLatency': 0.0, 'defaultHighInputLatency': 0.24, 'defaultHighOutputLatency': 0.0, 'defaultSampleRate': 44100.0}\n",
            "{'index': 5, 'structVersion': 2, 'name': 'Microphone Array (2- IntelÂ® Smart Sound Technology for Digital Microphones)', 'hostApi': 1, 'maxInputChannels': 4, 'maxOutputChannels': 0, 'defaultLowInputLatency': 0.12, 'defaultLowOutputLatency': 0.0, 'defaultHighInputLatency': 0.24, 'defaultHighOutputLatency': 0.0, 'defaultSampleRate': 44100.0}\n",
            "{'index': 6, 'structVersion': 2, 'name': 'Primary Sound Driver', 'hostApi': 1, 'maxInputChannels': 0, 'maxOutputChannels': 2, 'defaultLowInputLatency': 0.0, 'defaultLowOutputLatency': 0.12, 'defaultHighInputLatency': 0.0, 'defaultHighOutputLatency': 0.24, 'defaultSampleRate': 44100.0}\n",
            "{'index': 7, 'structVersion': 2, 'name': 'Speaker (2- Realtek(R) Audio)', 'hostApi': 1, 'maxInputChannels': 0, 'maxOutputChannels': 2, 'defaultLowInputLatency': 0.0, 'defaultLowOutputLatency': 0.12, 'defaultHighInputLatency': 0.0, 'defaultHighOutputLatency': 0.24, 'defaultSampleRate': 44100.0}\n",
            "{'index': 8, 'structVersion': 2, 'name': 'Speaker (2- Realtek(R) Audio)', 'hostApi': 2, 'maxInputChannels': 0, 'maxOutputChannels': 2, 'defaultLowInputLatency': 0.0, 'defaultLowOutputLatency': 0.003, 'defaultHighInputLatency': 0.0, 'defaultHighOutputLatency': 0.01, 'defaultSampleRate': 48000.0}\n",
            "{'index': 9, 'structVersion': 2, 'name': 'Microphone Array (2- IntelÂ® Smart Sound Technology for Digital Microphones)', 'hostApi': 2, 'maxInputChannels': 2, 'maxOutputChannels': 0, 'defaultLowInputLatency': 0.002, 'defaultLowOutputLatency': 0.0, 'defaultHighInputLatency': 0.01, 'defaultHighOutputLatency': 0.0, 'defaultSampleRate': 48000.0}\n",
            "{'index': 10, 'structVersion': 2, 'name': 'Input ()', 'hostApi': 3, 'maxInputChannels': 2, 'maxOutputChannels': 0, 'defaultLowInputLatency': 0.01, 'defaultLowOutputLatency': 0.01, 'defaultHighInputLatency': 0.08533333333333333, 'defaultHighOutputLatency': 0.08533333333333333, 'defaultSampleRate': 44100.0}\n",
            "{'index': 11, 'structVersion': 2, 'name': 'Headset (@System32\\\\drivers\\\\bthhfenum.sys,#2;%1 Hands-Free%0\\r\\n;(TWS V5.3))', 'hostApi': 3, 'maxInputChannels': 0, 'maxOutputChannels': 1, 'defaultLowInputLatency': 0.01, 'defaultLowOutputLatency': 0.01, 'defaultHighInputLatency': 0.08533333333333333, 'defaultHighOutputLatency': 0.08533333333333333, 'defaultSampleRate': 8000.0}\n",
            "{'index': 12, 'structVersion': 2, 'name': 'Headset (@System32\\\\drivers\\\\bthhfenum.sys,#2;%1 Hands-Free%0\\r\\n;(TWS V5.3))', 'hostApi': 3, 'maxInputChannels': 1, 'maxOutputChannels': 0, 'defaultLowInputLatency': 0.01, 'defaultLowOutputLatency': 0.01, 'defaultHighInputLatency': 0.08533333333333333, 'defaultHighOutputLatency': 0.08533333333333333, 'defaultSampleRate': 8000.0}\n",
            "{'index': 13, 'structVersion': 2, 'name': 'Headset (@System32\\\\drivers\\\\bthhfenum.sys,#2;%1 Hands-Free%0\\r\\n;(OPPO Enco Buds))', 'hostApi': 3, 'maxInputChannels': 0, 'maxOutputChannels': 1, 'defaultLowInputLatency': 0.01, 'defaultLowOutputLatency': 0.01, 'defaultHighInputLatency': 0.08533333333333333, 'defaultHighOutputLatency': 0.08533333333333333, 'defaultSampleRate': 8000.0}\n",
            "{'index': 14, 'structVersion': 2, 'name': 'Headset (@System32\\\\drivers\\\\bthhfenum.sys,#2;%1 Hands-Free%0\\r\\n;(OPPO Enco Buds))', 'hostApi': 3, 'maxInputChannels': 1, 'maxOutputChannels': 0, 'defaultLowInputLatency': 0.01, 'defaultLowOutputLatency': 0.01, 'defaultHighInputLatency': 0.08533333333333333, 'defaultHighOutputLatency': 0.08533333333333333, 'defaultSampleRate': 8000.0}\n",
            "{'index': 15, 'structVersion': 2, 'name': 'Headset (@System32\\\\drivers\\\\bthhfenum.sys,#2;%1 Hands-Free%0\\r\\n;(boAt Stone 170))', 'hostApi': 3, 'maxInputChannels': 0, 'maxOutputChannels': 1, 'defaultLowInputLatency': 0.01, 'defaultLowOutputLatency': 0.01, 'defaultHighInputLatency': 0.08533333333333333, 'defaultHighOutputLatency': 0.08533333333333333, 'defaultSampleRate': 8000.0}\n",
            "{'index': 16, 'structVersion': 2, 'name': 'Headset (@System32\\\\drivers\\\\bthhfenum.sys,#2;%1 Hands-Free%0\\r\\n;(boAt Stone 170))', 'hostApi': 3, 'maxInputChannels': 1, 'maxOutputChannels': 0, 'defaultLowInputLatency': 0.01, 'defaultLowOutputLatency': 0.01, 'defaultHighInputLatency': 0.08533333333333333, 'defaultHighOutputLatency': 0.08533333333333333, 'defaultSampleRate': 8000.0}\n",
            "{'index': 17, 'structVersion': 2, 'name': 'Headphones ()', 'hostApi': 3, 'maxInputChannels': 0, 'maxOutputChannels': 2, 'defaultLowInputLatency': 0.01, 'defaultLowOutputLatency': 0.01, 'defaultHighInputLatency': 0.08533333333333333, 'defaultHighOutputLatency': 0.08533333333333333, 'defaultSampleRate': 44100.0}\n",
            "{'index': 18, 'structVersion': 2, 'name': 'Output (@System32\\\\drivers\\\\bthhfenum.sys,#4;%1 Hands-Free HF Audio%0\\r\\n;(OnePlus Nord CE4))', 'hostApi': 3, 'maxInputChannels': 0, 'maxOutputChannels': 1, 'defaultLowInputLatency': 0.01, 'defaultLowOutputLatency': 0.01, 'defaultHighInputLatency': 0.08533333333333333, 'defaultHighOutputLatency': 0.08533333333333333, 'defaultSampleRate': 8000.0}\n",
            "{'index': 19, 'structVersion': 2, 'name': 'Input (@System32\\\\drivers\\\\bthhfenum.sys,#4;%1 Hands-Free HF Audio%0\\r\\n;(OnePlus Nord CE4))', 'hostApi': 3, 'maxInputChannels': 1, 'maxOutputChannels': 0, 'defaultLowInputLatency': 0.01, 'defaultLowOutputLatency': 0.01, 'defaultHighInputLatency': 0.08533333333333333, 'defaultHighOutputLatency': 0.08533333333333333, 'defaultSampleRate': 8000.0}\n",
            "{'index': 20, 'structVersion': 2, 'name': 'Stereo Mix (Realtek HD Audio Stereo input)', 'hostApi': 3, 'maxInputChannels': 2, 'maxOutputChannels': 0, 'defaultLowInputLatency': 0.01, 'defaultLowOutputLatency': 0.01, 'defaultHighInputLatency': 0.04, 'defaultHighOutputLatency': 0.04, 'defaultSampleRate': 48000.0}\n",
            "{'index': 21, 'structVersion': 2, 'name': 'Microphone (Realtek HD Audio Mic input)', 'hostApi': 3, 'maxInputChannels': 2, 'maxOutputChannels': 0, 'defaultLowInputLatency': 0.01, 'defaultLowOutputLatency': 0.01, 'defaultHighInputLatency': 0.04, 'defaultHighOutputLatency': 0.04, 'defaultSampleRate': 44100.0}\n",
            "{'index': 22, 'structVersion': 2, 'name': 'Headphones 1 (Realtek HD Audio 2nd output with SST)', 'hostApi': 3, 'maxInputChannels': 0, 'maxOutputChannels': 2, 'defaultLowInputLatency': 0.01, 'defaultLowOutputLatency': 0.01, 'defaultHighInputLatency': 0.04, 'defaultHighOutputLatency': 0.04, 'defaultSampleRate': 48000.0}\n",
            "{'index': 23, 'structVersion': 2, 'name': 'Headphones 2 (Realtek HD Audio 2nd output with SST)', 'hostApi': 3, 'maxInputChannels': 0, 'maxOutputChannels': 2, 'defaultLowInputLatency': 0.01, 'defaultLowOutputLatency': 0.01, 'defaultHighInputLatency': 0.04, 'defaultHighOutputLatency': 0.04, 'defaultSampleRate': 44100.0}\n",
            "{'index': 24, 'structVersion': 2, 'name': 'PC Speaker (Realtek HD Audio 2nd output with SST)', 'hostApi': 3, 'maxInputChannels': 2, 'maxOutputChannels': 0, 'defaultLowInputLatency': 0.01, 'defaultLowOutputLatency': 0.01, 'defaultHighInputLatency': 0.04, 'defaultHighOutputLatency': 0.04, 'defaultSampleRate': 48000.0}\n",
            "{'index': 25, 'structVersion': 2, 'name': 'Speakers 1 (Realtek HD Audio output with SST)', 'hostApi': 3, 'maxInputChannels': 0, 'maxOutputChannels': 2, 'defaultLowInputLatency': 0.01, 'defaultLowOutputLatency': 0.01, 'defaultHighInputLatency': 0.04, 'defaultHighOutputLatency': 0.04, 'defaultSampleRate': 48000.0}\n",
            "{'index': 26, 'structVersion': 2, 'name': 'Speakers 2 (Realtek HD Audio output with SST)', 'hostApi': 3, 'maxInputChannels': 0, 'maxOutputChannels': 2, 'defaultLowInputLatency': 0.01, 'defaultLowOutputLatency': 0.01, 'defaultHighInputLatency': 0.04, 'defaultHighOutputLatency': 0.04, 'defaultSampleRate': 44100.0}\n",
            "{'index': 27, 'structVersion': 2, 'name': 'PC Speaker (Realtek HD Audio output with SST)', 'hostApi': 3, 'maxInputChannels': 2, 'maxOutputChannels': 0, 'defaultLowInputLatency': 0.01, 'defaultLowOutputLatency': 0.01, 'defaultHighInputLatency': 0.04, 'defaultHighOutputLatency': 0.04, 'defaultSampleRate': 48000.0}\n",
            "{'index': 28, 'structVersion': 2, 'name': 'Headset (@System32\\\\drivers\\\\bthhfenum.sys,#2;%1 Hands-Free%0\\r\\n;(boAt Rockerz 255 Pro+))', 'hostApi': 3, 'maxInputChannels': 0, 'maxOutputChannels': 1, 'defaultLowInputLatency': 0.01, 'defaultLowOutputLatency': 0.01, 'defaultHighInputLatency': 0.08533333333333333, 'defaultHighOutputLatency': 0.08533333333333333, 'defaultSampleRate': 8000.0}\n",
            "{'index': 29, 'structVersion': 2, 'name': 'Headset (@System32\\\\drivers\\\\bthhfenum.sys,#2;%1 Hands-Free%0\\r\\n;(boAt Rockerz 255 Pro+))', 'hostApi': 3, 'maxInputChannels': 1, 'maxOutputChannels': 0, 'defaultLowInputLatency': 0.01, 'defaultLowOutputLatency': 0.01, 'defaultHighInputLatency': 0.08533333333333333, 'defaultHighOutputLatency': 0.08533333333333333, 'defaultSampleRate': 8000.0}\n",
            "{'index': 30, 'structVersion': 2, 'name': 'Headphones ()', 'hostApi': 3, 'maxInputChannels': 0, 'maxOutputChannels': 2, 'defaultLowInputLatency': 0.01, 'defaultLowOutputLatency': 0.01, 'defaultHighInputLatency': 0.08533333333333333, 'defaultHighOutputLatency': 0.08533333333333333, 'defaultSampleRate': 44100.0}\n",
            "{'index': 31, 'structVersion': 2, 'name': 'Headset (@System32\\\\drivers\\\\bthhfenum.sys,#2;%1 Hands-Free%0\\r\\n;(ECHO BUDS))', 'hostApi': 3, 'maxInputChannels': 0, 'maxOutputChannels': 1, 'defaultLowInputLatency': 0.01, 'defaultLowOutputLatency': 0.01, 'defaultHighInputLatency': 0.08533333333333333, 'defaultHighOutputLatency': 0.08533333333333333, 'defaultSampleRate': 8000.0}\n",
            "{'index': 32, 'structVersion': 2, 'name': 'Headset (@System32\\\\drivers\\\\bthhfenum.sys,#2;%1 Hands-Free%0\\r\\n;(ECHO BUDS))', 'hostApi': 3, 'maxInputChannels': 1, 'maxOutputChannels': 0, 'defaultLowInputLatency': 0.01, 'defaultLowOutputLatency': 0.01, 'defaultHighInputLatency': 0.08533333333333333, 'defaultHighOutputLatency': 0.08533333333333333, 'defaultSampleRate': 8000.0}\n",
            "{'index': 33, 'structVersion': 2, 'name': 'Headphones ()', 'hostApi': 3, 'maxInputChannels': 0, 'maxOutputChannels': 2, 'defaultLowInputLatency': 0.01, 'defaultLowOutputLatency': 0.01, 'defaultHighInputLatency': 0.08533333333333333, 'defaultHighOutputLatency': 0.08533333333333333, 'defaultSampleRate': 44100.0}\n",
            "{'index': 34, 'structVersion': 2, 'name': 'Headset (@System32\\\\drivers\\\\bthhfenum.sys,#2;%1 Hands-Free%0\\r\\n;(Airdopes 141))', 'hostApi': 3, 'maxInputChannels': 0, 'maxOutputChannels': 1, 'defaultLowInputLatency': 0.01, 'defaultLowOutputLatency': 0.01, 'defaultHighInputLatency': 0.08533333333333333, 'defaultHighOutputLatency': 0.08533333333333333, 'defaultSampleRate': 8000.0}\n",
            "{'index': 35, 'structVersion': 2, 'name': 'Headset (@System32\\\\drivers\\\\bthhfenum.sys,#2;%1 Hands-Free%0\\r\\n;(Airdopes 141))', 'hostApi': 3, 'maxInputChannels': 1, 'maxOutputChannels': 0, 'defaultLowInputLatency': 0.01, 'defaultLowOutputLatency': 0.01, 'defaultHighInputLatency': 0.08533333333333333, 'defaultHighOutputLatency': 0.08533333333333333, 'defaultSampleRate': 8000.0}\n",
            "{'index': 36, 'structVersion': 2, 'name': 'Headphones ()', 'hostApi': 3, 'maxInputChannels': 0, 'maxOutputChannels': 2, 'defaultLowInputLatency': 0.01, 'defaultLowOutputLatency': 0.01, 'defaultHighInputLatency': 0.08533333333333333, 'defaultHighOutputLatency': 0.08533333333333333, 'defaultSampleRate': 44100.0}\n",
            "{'index': 37, 'structVersion': 2, 'name': 'Headset (@System32\\\\drivers\\\\bthhfenum.sys,#2;%1 Hands-Free%0\\r\\n;(OnePlus Nord Buds 2r))', 'hostApi': 3, 'maxInputChannels': 0, 'maxOutputChannels': 1, 'defaultLowInputLatency': 0.01, 'defaultLowOutputLatency': 0.01, 'defaultHighInputLatency': 0.08533333333333333, 'defaultHighOutputLatency': 0.08533333333333333, 'defaultSampleRate': 16000.0}\n",
            "{'index': 38, 'structVersion': 2, 'name': 'Headset (@System32\\\\drivers\\\\bthhfenum.sys,#2;%1 Hands-Free%0\\r\\n;(OnePlus Nord Buds 2r))', 'hostApi': 3, 'maxInputChannels': 1, 'maxOutputChannels': 0, 'defaultLowInputLatency': 0.01, 'defaultLowOutputLatency': 0.01, 'defaultHighInputLatency': 0.08533333333333333, 'defaultHighOutputLatency': 0.08533333333333333, 'defaultSampleRate': 16000.0}\n",
            "{'index': 39, 'structVersion': 2, 'name': 'Headset (@System32\\\\drivers\\\\bthhfenum.sys,#2;%1 Hands-Free%0\\r\\n;(Mivi DuoPods A350))', 'hostApi': 3, 'maxInputChannels': 0, 'maxOutputChannels': 1, 'defaultLowInputLatency': 0.01, 'defaultLowOutputLatency': 0.01, 'defaultHighInputLatency': 0.08533333333333333, 'defaultHighOutputLatency': 0.08533333333333333, 'defaultSampleRate': 8000.0}\n",
            "{'index': 40, 'structVersion': 2, 'name': 'Headset (@System32\\\\drivers\\\\bthhfenum.sys,#2;%1 Hands-Free%0\\r\\n;(Mivi DuoPods A350))', 'hostApi': 3, 'maxInputChannels': 1, 'maxOutputChannels': 0, 'defaultLowInputLatency': 0.01, 'defaultLowOutputLatency': 0.01, 'defaultHighInputLatency': 0.08533333333333333, 'defaultHighOutputLatency': 0.08533333333333333, 'defaultSampleRate': 8000.0}\n",
            "{'index': 41, 'structVersion': 2, 'name': 'Headphones ()', 'hostApi': 3, 'maxInputChannels': 0, 'maxOutputChannels': 2, 'defaultLowInputLatency': 0.01, 'defaultLowOutputLatency': 0.01, 'defaultHighInputLatency': 0.08533333333333333, 'defaultHighOutputLatency': 0.08533333333333333, 'defaultSampleRate': 44100.0}\n",
            "{'index': 42, 'structVersion': 2, 'name': 'Microphone Array 1 ()', 'hostApi': 3, 'maxInputChannels': 2, 'maxOutputChannels': 0, 'defaultLowInputLatency': 0.01, 'defaultLowOutputLatency': 0.01, 'defaultHighInputLatency': 0.04, 'defaultHighOutputLatency': 0.04, 'defaultSampleRate': 48000.0}\n",
            "{'index': 43, 'structVersion': 2, 'name': 'Microphone Array 2 ()', 'hostApi': 3, 'maxInputChannels': 2, 'maxOutputChannels': 0, 'defaultLowInputLatency': 0.01, 'defaultLowOutputLatency': 0.01, 'defaultHighInputLatency': 0.04, 'defaultHighOutputLatency': 0.04, 'defaultSampleRate': 48000.0}\n",
            "{'index': 44, 'structVersion': 2, 'name': 'Microphone Array 3 ()', 'hostApi': 3, 'maxInputChannels': 4, 'maxOutputChannels': 0, 'defaultLowInputLatency': 0.01, 'defaultLowOutputLatency': 0.01, 'defaultHighInputLatency': 0.04, 'defaultHighOutputLatency': 0.04, 'defaultSampleRate': 16000.0}\n",
            "{'index': 45, 'structVersion': 2, 'name': 'Headset (@System32\\\\drivers\\\\bthhfenum.sys,#2;%1 Hands-Free%0\\r\\n;(Airdopes Supreme))', 'hostApi': 3, 'maxInputChannels': 0, 'maxOutputChannels': 1, 'defaultLowInputLatency': 0.01, 'defaultLowOutputLatency': 0.01, 'defaultHighInputLatency': 0.08533333333333333, 'defaultHighOutputLatency': 0.08533333333333333, 'defaultSampleRate': 8000.0}\n",
            "{'index': 46, 'structVersion': 2, 'name': 'Headset (@System32\\\\drivers\\\\bthhfenum.sys,#2;%1 Hands-Free%0\\r\\n;(Airdopes Supreme))', 'hostApi': 3, 'maxInputChannels': 1, 'maxOutputChannels': 0, 'defaultLowInputLatency': 0.01, 'defaultLowOutputLatency': 0.01, 'defaultHighInputLatency': 0.08533333333333333, 'defaultHighOutputLatency': 0.08533333333333333, 'defaultSampleRate': 8000.0}\n",
            "{'index': 47, 'structVersion': 2, 'name': 'Headphones ()', 'hostApi': 3, 'maxInputChannels': 0, 'maxOutputChannels': 2, 'defaultLowInputLatency': 0.01, 'defaultLowOutputLatency': 0.01, 'defaultHighInputLatency': 0.08533333333333333, 'defaultHighOutputLatency': 0.08533333333333333, 'defaultSampleRate': 44100.0}\n",
            "{'index': 48, 'structVersion': 2, 'name': 'Headset (@System32\\\\drivers\\\\bthhfenum.sys,#2;%1 Hands-Free%0\\r\\n;(i7-TWS))', 'hostApi': 3, 'maxInputChannels': 0, 'maxOutputChannels': 1, 'defaultLowInputLatency': 0.01, 'defaultLowOutputLatency': 0.01, 'defaultHighInputLatency': 0.08533333333333333, 'defaultHighOutputLatency': 0.08533333333333333, 'defaultSampleRate': 8000.0}\n",
            "{'index': 49, 'structVersion': 2, 'name': 'Headset (@System32\\\\drivers\\\\bthhfenum.sys,#2;%1 Hands-Free%0\\r\\n;(i7-TWS))', 'hostApi': 3, 'maxInputChannels': 1, 'maxOutputChannels': 0, 'defaultLowInputLatency': 0.01, 'defaultLowOutputLatency': 0.01, 'defaultHighInputLatency': 0.08533333333333333, 'defaultHighOutputLatency': 0.08533333333333333, 'defaultSampleRate': 8000.0}\n",
            "{'index': 50, 'structVersion': 2, 'name': 'Headphones ()', 'hostApi': 3, 'maxInputChannels': 0, 'maxOutputChannels': 2, 'defaultLowInputLatency': 0.01, 'defaultLowOutputLatency': 0.01, 'defaultHighInputLatency': 0.08533333333333333, 'defaultHighOutputLatency': 0.08533333333333333, 'defaultSampleRate': 44100.0}\n",
            "{'index': 51, 'structVersion': 2, 'name': 'Headphones ()', 'hostApi': 3, 'maxInputChannels': 0, 'maxOutputChannels': 2, 'defaultLowInputLatency': 0.01, 'defaultLowOutputLatency': 0.01, 'defaultHighInputLatency': 0.08533333333333333, 'defaultHighOutputLatency': 0.08533333333333333, 'defaultSampleRate': 44100.0}\n",
            "{'index': 52, 'structVersion': 2, 'name': 'Headphones ()', 'hostApi': 3, 'maxInputChannels': 0, 'maxOutputChannels': 2, 'defaultLowInputLatency': 0.01, 'defaultLowOutputLatency': 0.01, 'defaultHighInputLatency': 0.08533333333333333, 'defaultHighOutputLatency': 0.08533333333333333, 'defaultSampleRate': 44100.0}\n",
            "{'index': 53, 'structVersion': 2, 'name': 'Headphones ()', 'hostApi': 3, 'maxInputChannels': 0, 'maxOutputChannels': 2, 'defaultLowInputLatency': 0.01, 'defaultLowOutputLatency': 0.01, 'defaultHighInputLatency': 0.08533333333333333, 'defaultHighOutputLatency': 0.08533333333333333, 'defaultSampleRate': 44100.0}\n",
            "{'index': 54, 'structVersion': 2, 'name': 'Headphones ()', 'hostApi': 3, 'maxInputChannels': 0, 'maxOutputChannels': 2, 'defaultLowInputLatency': 0.01, 'defaultLowOutputLatency': 0.01, 'defaultHighInputLatency': 0.08533333333333333, 'defaultHighOutputLatency': 0.08533333333333333, 'defaultSampleRate': 48000.0}\n"
          ]
        }
      ],
      "source": [
        "import pyaudio\n",
        "p = pyaudio.PyAudio()\n",
        "for i in range(p.get_device_count()):\n",
        "  print(p.get_device_info_by_index(i))\n",
        "p.terminate()"
      ]
    },
    {
      "cell_type": "code",
      "execution_count": 20,
      "metadata": {},
      "outputs": [
        {
          "name": "stdout",
          "output_type": "stream",
          "text": [
            "Rate your sleep quality from 1 to 5.\n",
            "You said: point zero\n",
            "Rate your sleep quality from 1 to 5.\n",
            "You said: 5\n",
            "Captured response: 5.0\n"
          ]
        }
      ],
      "source": [
        "# Import necessary libraries\n",
        "import speech_recognition as sr\n",
        "import pyttsx3\n",
        "\n",
        "# Initialize the recognizer and text-to-speech engine\n",
        "recognizer = sr.Recognizer()\n",
        "engine = pyttsx3.init()\n",
        "\n",
        "# Define the speak function for text-to-speech\n",
        "def speak(text):\n",
        "    engine.say(text)\n",
        "    try:\n",
        "        engine.runAndWait()\n",
        "    except RuntimeError:\n",
        "        pass  # Ignore RuntimeError if the loop is already running\n",
        "\n",
        "# Example usage of recognizer and speak\n",
        "def get_voice_input(prompt):\n",
        "    speak(prompt)\n",
        "    print(prompt)\n",
        "    with sr.Microphone() as source:\n",
        "        recognizer.adjust_for_ambient_noise(source, duration=1)  # Adjust for background noise\n",
        "        audio = recognizer.listen(source)\n",
        "    try:\n",
        "        text = recognizer.recognize_google(audio)\n",
        "        print(f\"You said: {text}\")\n",
        "        return float(text)  # Convert to float (ensure numbers)\n",
        "    except ValueError:\n",
        "        speak(\"Please provide a number between 1 and 5.\")\n",
        "        return get_voice_input(prompt)\n",
        "    except sr.UnknownValueError:\n",
        "        speak(\"Sorry, I couldn't understand. Please try again.\")\n",
        "        return get_voice_input(prompt)\n",
        "    except sr.RequestError:\n",
        "        speak(\"There was an issue with the speech recognition service.\")\n",
        "        return None\n",
        "\n",
        "# Test the function\n",
        "response = get_voice_input(\"Rate your sleep quality from 1 to 5.\")\n",
        "print(f\"Captured response: {response}\")"
      ]
    },
    {
      "cell_type": "code",
      "execution_count": 23,
      "metadata": {},
      "outputs": [],
      "source": [
        "try:\n",
        "    with sr.Microphone() as source:\n",
        "        recognizer.adjust_for_ambient_noise(source, duration=1)\n",
        "        audio = recognizer.listen(source)\n",
        "except sr.RequestError as e:\n",
        "    print(f\"Could not request results from the speech recognition service; {e}\")\n",
        "except sr.UnknownValueError:\n",
        "    print(\"Speech recognition could not understand the audio.\")\n",
        "except OSError as e:\n",
        "    print(f\"Microphone error: {e}\")"
      ]
    },
    {
      "cell_type": "code",
      "execution_count": null,
      "metadata": {
        "id": "jSBU2jwH6-x_"
      },
      "outputs": [
        {
          "name": "stdout",
          "output_type": "stream",
          "text": [
            "On a scale of 0 to 30, what is your anxiety level?\n",
            "You said: 25\n",
            "On a scale of 0 to 30, what is your self-esteem level?\n",
            "You said: 27\n",
            "Have you ever had a history of mental health issues? (0 = No, 1 = Yes)\n",
            "Have you ever had a history of mental health issues? (0 = No, 1 = Yes)\n",
            "You said: point zero\n",
            "Have you ever had a history of mental health issues? (0 = No, 1 = Yes)\n",
            "You said: no\n",
            "Have you ever had a history of mental health issues? (0 = No, 1 = Yes)\n",
            "Have you ever had a history of mental health issues? (0 = No, 1 = Yes)\n",
            "Have you ever had a history of mental health issues? (0 = No, 1 = Yes)\n",
            "Have you ever had a history of mental health issues? (0 = No, 1 = Yes)\n",
            "You said: 1.0\n",
            "On a scale of 0 to 30, how severe is your depression?\n",
            "On a scale of 0 to 30, how severe is your depression?\n",
            "On a scale of 0 to 30, how severe is your depression?\n",
            "You said: 7.0\n",
            "On a scale of 0 to 10, how frequent are your headaches?\n",
            "You said: 3.0\n",
            "Rate your blood pressure: (1 = Low, 2 = Normal, 3 = High)\n",
            "Rate your blood pressure: (1 = Low, 2 = Normal, 3 = High)\n",
            "You said: point zero\n",
            "Rate your blood pressure: (1 = Low, 2 = Normal, 3 = High)\n",
            "You said: 0.0\n",
            "Rate your sleep quality from 1 (poor) to 5 (excellent).\n",
            "You said: point zero\n",
            "Rate your sleep quality from 1 (poor) to 5 (excellent).\n",
            "You said: 4.0\n",
            "On a scale of 0 to 5, how severe are your breathing problems?\n",
            "You said: 1.0\n",
            "On a scale of 0 to 5, how noisy is your environment?\n",
            "You said: 4.0\n",
            "Rate your living conditions: (1 = Poor, 2 = Average, 3 = Good)\n",
            "You said: 3.0\n",
            "How safe do you feel in your environment? (1 = Not safe, 5 = Very safe)\n",
            "You said: 5.0\n",
            "Are your basic needs met? (1 = Not met, 5 = Fully met)\n",
            "You said: 4.0\n",
            "Rate your academic performance: (1 = Poor, 5 = Excellent)\n",
            "You said: 3.0\n",
            "Rate your study load: (1 = Very Light, 5 = Very Heavy)\n",
            "You said: 4.0\n",
            "How would you rate your relationship with teachers? (1 = Bad, 5 = Excellent)\n",
            "You said: 3.0\n",
            "How concerned are you about your future career? (1 = Not concerned, 5 = Extremely concerned)\n",
            "You said: 5.0\n",
            "How much social support do you feel you have? (1 = None, 5 = Strong support)\n",
            "You said: 3.0\n",
            "Rate peer pressure you experience: (1 = None, 5 = Extreme)\n",
            "You said: 3.0\n",
            "How many extracurricular activities do you participate in per week? (Number between 0–5)\n",
            "You said: 5.0\n",
            "On a scale of 0 to 5, how often do you face bullying?\n",
            "You said: zero point\n",
            "On a scale of 0 to 5, how often do you face bullying?\n",
            "On a scale of 0 to 5, how often do you face bullying?\n",
            "On a scale of 0 to 5, how often do you face bullying?\n",
            "You said: 1.0\n"
          ]
        },
        {
          "name": "stderr",
          "output_type": "stream",
          "text": [
            "c:\\Users\\DEVENDER\\AppData\\Local\\Programs\\Python\\Python311\\Lib\\site-packages\\sklearn\\base.py:493: UserWarning: X does not have valid feature names, but StandardScaler was fitted with feature names\n",
            "  warnings.warn(\n"
          ]
        },
        {
          "name": "stdout",
          "output_type": "stream",
          "text": [
            "Predicted Stress Level: Unknown Stress Level\n"
          ]
        }
      ],
      "source": [
        "import speech_recognition as sr\n",
        "import pyttsx3\n",
        "import joblib\n",
        "import numpy as np\n",
        "import pandas as pd\n",
        "from datetime import datetime\n",
        "import os\n",
        "\n",
        "# Load model and scaler\n",
        "model = joblib.load(\"student_stress_model.pkl\")\n",
        "scaler = joblib.load(\"scaler.pkl\")\n",
        "\n",
        "# Init recognizer and TTS engine\n",
        "recognizer = sr.Recognizer()\n",
        "engine = pyttsx3.init()\n",
        "\n",
        "# List of questions matching your dataset features\n",
        "questions = [\n",
        "    \"On a scale of 0 to 30, what is your anxiety level?\",\n",
        "    \"On a scale of 0 to 30, what is your self-esteem level?\",\n",
        "    \"Have you ever had a history of mental health issues? (0 = No, 1 = Yes)\",\n",
        "    \"On a scale of 0 to 30, how severe is your depression?\",\n",
        "    \"On a scale of 0 to 10, how frequent are your headaches?\",\n",
        "    \"Rate your blood pressure: (1 = Low, 2 = Normal, 3 = High)\",\n",
        "    \"Rate your sleep quality from 1 (poor) to 5 (excellent).\",\n",
        "    \"On a scale of 0 to 5, how severe are your breathing problems?\",\n",
        "    \"On a scale of 0 to 5, how noisy is your environment?\",\n",
        "    \"Rate your living conditions: (1 = Poor, 2 = Average, 3 = Good)\",\n",
        "    \"How safe do you feel in your environment? (1 = Not safe, 5 = Very safe)\",\n",
        "    \"Are your basic needs met? (1 = Not met, 5 = Fully met)\",\n",
        "    \"Rate your academic performance: (1 = Poor, 5 = Excellent)\",\n",
        "    \"Rate your study load: (1 = Very Light, 5 = Very Heavy)\",\n",
        "    \"How would you rate your relationship with teachers? (1 = Bad, 5 = Excellent)\",\n",
        "    \"How concerned are you about your future career? (1 = Not concerned, 5 = Extremely concerned)\",\n",
        "    \"How much social support do you feel you have? (1 = None, 5 = Strong support)\",\n",
        "    \"Rate peer pressure you experience: (1 = None, 5 = Extreme)\",\n",
        "    \"How many extracurricular activities do you participate in per week? (Number between 0–5)\",\n",
        "    \"On a scale of 0 to 5, how often do you face bullying?\"\n",
        "]\n",
        "\n",
        "# Speak function\n",
        "def speak(text):\n",
        "    engine.say(text)\n",
        "    try:\n",
        "        engine.runAndWait()\n",
        "    except RuntimeError:\n",
        "        pass  # Ignore RuntimeError if the loop is already running\n",
        "\n",
        "# Get voice input\n",
        "def get_voice_input(prompt):\n",
        "    speak(prompt)\n",
        "    print(prompt)\n",
        "    with sr.Microphone() as source:\n",
        "        audio = recognizer.listen(source)\n",
        "    try:\n",
        "        text = recognizer.recognize_google(audio)\n",
        "        print(f\"You said: {text}\")\n",
        "        return float(text)  # Convert to float (ensure numbers)\n",
        "    except:\n",
        "        speak(\"Sorry, I couldn't understand. Please try again.\")\n",
        "        return get_voice_input(prompt)\n",
        "\n",
        "# --- START of Program ---\n",
        "\n",
        "# Collect student basic info\n",
        "print(\"Please provide your basic details:\")\n",
        "student_name = input(\"Enter your full name: \")\n",
        "student_age = input(\"Enter your age: \")\n",
        "student_contact = input(\"Enter your contact information (phone/email): \")\n",
        "\n",
        "# Collect answers\n",
        "input_data = []\n",
        "for q in questions:\n",
        "    answer = get_voice_input(q)\n",
        "    input_data.append(answer)\n",
        "\n",
        "# Preprocess and predict\n",
        "X_new = scaler.transform([input_data])\n",
        "prediction = model.predict(X_new)\n",
        "\n",
        "# Force prediction to integer (important fix)\n",
        "predicted_class = int(round(prediction[0]))\n",
        "\n",
        "# Interpret prediction\n",
        "stress_map = {\n",
        "    1: \"Low Stress\",\n",
        "    2: \"Medium Stress\",\n",
        "    3: \"High Stress\"\n",
        "}\n",
        "result = stress_map.get(predicted_class, \"Unknown Stress Level\")\n",
        "\n",
        "# Output result\n",
        "speak(f\"Based on your answers, your stress level is: {result}\")\n",
        "print(f\"\\nPredicted Stress Level: {result}\")\n",
        "\n",
        "# Save to CSV\n",
        "record = {\n",
        "    \"Timestamp\": datetime.now().strftime(\"%Y-%m-%d %H:%M:%S\"),\n",
        "    \"Name\": student_name,\n",
        "    \"Age\": student_age,\n",
        "    \"Contact\": student_contact,\n",
        "    \"Predicted Stress Level\": result\n",
        "}\n",
        "\n",
        "# Add all answers too\n",
        "for i, q in enumerate(questions):\n",
        "    record[f\"Q{i+1}\"] = input_data[i]\n",
        "\n",
        "# Save into a CSV\n",
        "csv_filename = \"stress_predictions_log.csv\"\n",
        "\n",
        "# Check if CSV already exists\n",
        "file_exists = os.path.isfile(csv_filename)\n",
        "\n",
        "# Append new record\n",
        "df = pd.DataFrame([record])\n",
        "if file_exists:\n",
        "    df.to_csv(csv_filename, mode='a', header=False, index=False)\n",
        "else:\n",
        "    df.to_csv(csv_filename, index=False)\n",
        "\n",
        "print(\"\\nYour responses have been recorded. Thank you!\")\n"
      ]
    }
  ],
  "metadata": {
    "colab": {
      "provenance": []
    },
    "kernelspec": {
      "display_name": "Python 3",
      "name": "python3"
    },
    "language_info": {
      "codemirror_mode": {
        "name": "ipython",
        "version": 3
      },
      "file_extension": ".py",
      "mimetype": "text/x-python",
      "name": "python",
      "nbconvert_exporter": "python",
      "pygments_lexer": "ipython3",
      "version": "3.11.1"
    }
  },
  "nbformat": 4,
  "nbformat_minor": 0
}
